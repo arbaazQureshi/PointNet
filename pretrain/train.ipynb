{
 "cells": [
  {
   "cell_type": "code",
   "execution_count": 5,
   "id": "74ff5999-9592-4c0f-a4bd-abd95fefc75d",
   "metadata": {},
   "outputs": [],
   "source": [
    "import argparse\n",
    "import json\n",
    "import os\n",
    "\n",
    "import torch\n",
    "import torch.nn.functional as F\n",
    "from data_utils import ModelNetSSLDataset\n",
    "from models import DGCNN_point_global, Model2D_pixel, PointNet_point_global, feature_transform_regularizer\n",
    "from torch import optim\n",
    "from torch.optim.lr_scheduler import CosineAnnealingLR, StepLR\n",
    "from torch.utils.data import DataLoader\n",
    "from tqdm import tqdm\n",
    "from utils import contrastive_loss"
   ]
  },
  {
   "cell_type": "code",
   "execution_count": null,
   "id": "f0b601f9-989f-457a-b851-bb47a8531e7e",
   "metadata": {},
   "outputs": [
    {
     "name": "stdout",
     "output_type": "stream",
     "text": [
      "ModelNet40_MV\n",
      "Namespace(feature_dim=128, temperature=0.5, batch_size=72, nepoch=1, emb_dims=1024, use_sgd=False, fps='random', lr=0.001, momentum=0.9, scheduler='step', model='pointnet', num_views=12, num_point_contrast=512, num_points=1024, k=20, dataset='../dataset/ModelNet40_blender_sampling_1024/ModelNet40_blender_sampling_1024', pre_fix='ModelNet40_MV', log_dir='pre_trained_3d_point')\n",
      "Use Adam\n",
      " 14%|█████▊                                    | 19/136 [01:04<05:39,  2.90s/it]"
     ]
    }
   ],
   "source": [
    "!python train.py --nepoch 1"
   ]
  }
 ],
 "metadata": {
  "kernelspec": {
   "display_name": "Python [conda env:4.8.3-jupyterhub-stable]",
   "language": "python",
   "name": "conda-env-4.8.3-jupyterhub-stable-py"
  },
  "language_info": {
   "codemirror_mode": {
    "name": "ipython",
    "version": 3
   },
   "file_extension": ".py",
   "mimetype": "text/x-python",
   "name": "python",
   "nbconvert_exporter": "python",
   "pygments_lexer": "ipython3",
   "version": "3.10.4"
  }
 },
 "nbformat": 4,
 "nbformat_minor": 5
}
